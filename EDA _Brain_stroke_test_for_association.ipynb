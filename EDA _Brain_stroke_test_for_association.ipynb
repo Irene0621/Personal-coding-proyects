{
 "cells": [
  {
   "cell_type": "markdown",
   "metadata": {},
   "source": [
    "EDA: Diagnosing Brain Stroke \n",
    "\n",
    "A stroke happens when blood flow to the brain is stopped.\n",
    "Brain cells begin to die after just a few minutes without blood or oxygen.Anyone can have a stroke at any age. But your chance of having a stroke increases if you have certain risk factors.\n",
    "In this proyect we explore data that looks at how certain diagnostic factors like hypertension, heart disease, average glucose levels, bmi or other factors like gender, age, type of work, residence type, smoking status, affect brain stroke outcome of patients. More particularly we look if there is an asociation between this factors and brain stroke comparing graphs and calculating statistic parameters.\n",
    "\n",
    "\n",
    "\n",
    "This [dataset](https://www.kaggle.com/datasets/jillanisofttech/brain-stroke-dataset?select=brain_stroke.csv) is from Jillani Soft Tech kaggle's account it contains the following columns:\n",
    "\n",
    "- `gender`: gender of the patient (Female or Male)\n",
    "- `age`: age of the patient (years)\n",
    "- `hypertension`: 1 if patien have hypertension, 0 if patient doesn't have hypertension\n",
    "- `heart_disease`: 1 if patien have heart disease, 0 if patient doesn't have heart disease\n",
    "- `work_type`: \"children\", \"Govtjov\", \"Neverworked\",\"Private\", \"Self-employed\"\n",
    "- `residence_type`: \"Rural\", \"Urban\"\n",
    "- `avg_glucose_level`: average glucose level in blood\n",
    "- `bmi`: Body mass index\n",
    "- `smoking_status`: \"formerly smoked\", \"never smoked\", \"smokes\", \"Unkown\"\n",
    "- `stroke`: 1 if patient had stroke, 0 if patient not\n",
    "\n",
    "\n"
   ]
  },
  {
   "cell_type": "markdown",
   "metadata": {},
   "source": [
    "First we are going to load in the brain stroke data to start exploring.\n",
    "\n",
    " We load the data in a variable called `brain_stroke_data` and print the first few rows.\n",
    "   \n",
    "   **Note**: The data is stored in a file called `brain_stroke.csv`."
   ]
  },
  {
   "cell_type": "code",
   "execution_count": 215,
   "metadata": {},
   "outputs": [
    {
     "data": {
      "text/html": [
       "<div>\n",
       "<style scoped>\n",
       "    .dataframe tbody tr th:only-of-type {\n",
       "        vertical-align: middle;\n",
       "    }\n",
       "\n",
       "    .dataframe tbody tr th {\n",
       "        vertical-align: top;\n",
       "    }\n",
       "\n",
       "    .dataframe thead th {\n",
       "        text-align: right;\n",
       "    }\n",
       "</style>\n",
       "<table border=\"1\" class=\"dataframe\">\n",
       "  <thead>\n",
       "    <tr style=\"text-align: right;\">\n",
       "      <th></th>\n",
       "      <th>gender</th>\n",
       "      <th>age</th>\n",
       "      <th>hypertension</th>\n",
       "      <th>heart_disease</th>\n",
       "      <th>ever_married</th>\n",
       "      <th>work_type</th>\n",
       "      <th>Residence_type</th>\n",
       "      <th>avg_glucose_level</th>\n",
       "      <th>bmi</th>\n",
       "      <th>smoking_status</th>\n",
       "      <th>stroke</th>\n",
       "    </tr>\n",
       "  </thead>\n",
       "  <tbody>\n",
       "    <tr>\n",
       "      <th>0</th>\n",
       "      <td>Male</td>\n",
       "      <td>67.0</td>\n",
       "      <td>0</td>\n",
       "      <td>1</td>\n",
       "      <td>Yes</td>\n",
       "      <td>Private</td>\n",
       "      <td>Urban</td>\n",
       "      <td>228.69</td>\n",
       "      <td>36.6</td>\n",
       "      <td>formerly smoked</td>\n",
       "      <td>1</td>\n",
       "    </tr>\n",
       "    <tr>\n",
       "      <th>1</th>\n",
       "      <td>Male</td>\n",
       "      <td>80.0</td>\n",
       "      <td>0</td>\n",
       "      <td>1</td>\n",
       "      <td>Yes</td>\n",
       "      <td>Private</td>\n",
       "      <td>Rural</td>\n",
       "      <td>105.92</td>\n",
       "      <td>32.5</td>\n",
       "      <td>never smoked</td>\n",
       "      <td>1</td>\n",
       "    </tr>\n",
       "    <tr>\n",
       "      <th>2</th>\n",
       "      <td>Female</td>\n",
       "      <td>49.0</td>\n",
       "      <td>0</td>\n",
       "      <td>0</td>\n",
       "      <td>Yes</td>\n",
       "      <td>Private</td>\n",
       "      <td>Urban</td>\n",
       "      <td>171.23</td>\n",
       "      <td>34.4</td>\n",
       "      <td>smokes</td>\n",
       "      <td>1</td>\n",
       "    </tr>\n",
       "    <tr>\n",
       "      <th>3</th>\n",
       "      <td>Female</td>\n",
       "      <td>79.0</td>\n",
       "      <td>1</td>\n",
       "      <td>0</td>\n",
       "      <td>Yes</td>\n",
       "      <td>Self-employed</td>\n",
       "      <td>Rural</td>\n",
       "      <td>174.12</td>\n",
       "      <td>24.0</td>\n",
       "      <td>never smoked</td>\n",
       "      <td>1</td>\n",
       "    </tr>\n",
       "    <tr>\n",
       "      <th>4</th>\n",
       "      <td>Male</td>\n",
       "      <td>81.0</td>\n",
       "      <td>0</td>\n",
       "      <td>0</td>\n",
       "      <td>Yes</td>\n",
       "      <td>Private</td>\n",
       "      <td>Urban</td>\n",
       "      <td>186.21</td>\n",
       "      <td>29.0</td>\n",
       "      <td>formerly smoked</td>\n",
       "      <td>1</td>\n",
       "    </tr>\n",
       "  </tbody>\n",
       "</table>\n",
       "</div>"
      ],
      "text/plain": [
       "   gender   age  hypertension  heart_disease ever_married      work_type  \\\n",
       "0    Male  67.0             0              1          Yes        Private   \n",
       "1    Male  80.0             0              1          Yes        Private   \n",
       "2  Female  49.0             0              0          Yes        Private   \n",
       "3  Female  79.0             1              0          Yes  Self-employed   \n",
       "4    Male  81.0             0              0          Yes        Private   \n",
       "\n",
       "  Residence_type  avg_glucose_level   bmi   smoking_status  stroke  \n",
       "0          Urban             228.69  36.6  formerly smoked       1  \n",
       "1          Rural             105.92  32.5     never smoked       1  \n",
       "2          Urban             171.23  34.4           smokes       1  \n",
       "3          Rural             174.12  24.0     never smoked       1  \n",
       "4          Urban             186.21  29.0  formerly smoked       1  "
      ]
     },
     "execution_count": 215,
     "metadata": {},
     "output_type": "execute_result"
    }
   ],
   "source": [
    "import pandas as pd\n",
    "import numpy as np\n",
    "import seaborn as sns\n",
    "import scipy.stats\n",
    "from scipy.stats import chi2_contingency\n",
    "from scipy.stats import chi2\n",
    "from scipy.stats import ttest_ind\n",
    "from matplotlib import pyplot as plt\n",
    "\n",
    "\n",
    "\n",
    "# load in data\n",
    "brain_stroke_data = pd.read_csv('brain_stroke.csv')\n",
    "brain_stroke_data.head()\n",
    "\n"
   ]
  },
  {
   "cell_type": "markdown",
   "metadata": {},
   "source": [
    "The dataset have 4981 rows and 11 columns:"
   ]
  },
  {
   "cell_type": "code",
   "execution_count": 24,
   "metadata": {
    "scrolled": true
   },
   "outputs": [
    {
     "name": "stdout",
     "output_type": "stream",
     "text": [
      "Number of rows and columns:  (4981, 11)\n"
     ]
    }
   ],
   "source": [
    "print(\"Number of rows and columns: \",brain_stroke_data.shape)"
   ]
  },
  {
   "cell_type": "markdown",
   "metadata": {},
   "source": [
    "We calculate the unique values for each column. We already describe them above."
   ]
  },
  {
   "cell_type": "code",
   "execution_count": 39,
   "metadata": {
    "scrolled": true
   },
   "outputs": [
    {
     "name": "stdout",
     "output_type": "stream",
     "text": [
      "['Male' 'Female']\n",
      "[6.70e+01 8.00e+01 4.90e+01 7.90e+01 8.10e+01 7.40e+01 6.90e+01 7.80e+01\n",
      " 6.10e+01 5.40e+01 5.00e+01 6.40e+01 7.50e+01 6.00e+01 7.10e+01 5.20e+01\n",
      " 8.20e+01 6.50e+01 5.70e+01 4.20e+01 4.80e+01 7.20e+01 5.80e+01 7.60e+01\n",
      " 3.90e+01 7.70e+01 6.30e+01 7.30e+01 5.60e+01 4.50e+01 7.00e+01 5.90e+01\n",
      " 6.60e+01 4.30e+01 6.80e+01 4.70e+01 5.30e+01 3.80e+01 5.50e+01 4.60e+01\n",
      " 3.20e+01 5.10e+01 1.40e+01 3.00e+00 8.00e+00 3.70e+01 4.00e+01 3.50e+01\n",
      " 2.00e+01 4.40e+01 2.50e+01 2.70e+01 2.30e+01 1.70e+01 1.30e+01 4.00e+00\n",
      " 1.60e+01 2.20e+01 3.00e+01 2.90e+01 1.10e+01 2.10e+01 1.80e+01 3.30e+01\n",
      " 2.40e+01 3.60e+01 6.40e-01 3.40e+01 4.10e+01 8.80e-01 5.00e+00 2.60e+01\n",
      " 3.10e+01 7.00e+00 1.20e+01 6.20e+01 2.00e+00 9.00e+00 1.50e+01 2.80e+01\n",
      " 1.00e+01 1.80e+00 3.20e-01 1.08e+00 1.90e+01 6.00e+00 1.16e+00 1.00e+00\n",
      " 1.40e+00 1.72e+00 2.40e-01 1.64e+00 1.56e+00 7.20e-01 1.88e+00 1.24e+00\n",
      " 8.00e-01 4.00e-01 8.00e-02 1.48e+00 5.60e-01 1.32e+00 1.60e-01 4.80e-01]\n",
      "[0 1]\n",
      "[1 0]\n",
      "['Yes' 'No']\n",
      "['Private' 'Self-employed' 'Govt_job' 'children']\n",
      "['Urban' 'Rural']\n",
      "[228.69 105.92 171.23 ... 191.15  95.02  83.94]\n",
      "[36.6 32.5 34.4 24.  29.  27.4 22.8 24.2 29.7 36.8 27.3 28.2 30.9 37.5\n",
      " 25.8 37.8 22.4 48.9 26.6 27.2 23.5 28.3 44.2 25.4 22.2 30.5 26.5 33.7\n",
      " 23.1 32.  29.9 23.9 28.5 26.4 20.2 33.6 38.6 39.2 27.7 31.4 36.5 33.2\n",
      " 32.8 40.4 25.3 30.2 47.5 20.3 30.  28.9 28.1 31.1 21.7 27.  24.1 45.9\n",
      " 44.1 22.9 29.1 32.3 41.1 25.6 29.8 26.3 26.2 29.4 24.4 28.  28.8 34.6\n",
      " 19.4 30.3 41.5 22.6 27.1 31.3 31.  31.7 35.8 28.4 20.1 26.7 38.7 34.9\n",
      " 25.  23.8 21.8 27.5 24.6 32.9 26.1 31.9 34.1 36.9 37.3 45.7 34.2 23.6\n",
      " 22.3 37.1 45.  25.5 30.8 37.4 34.5 27.9 29.5 46.  42.5 35.5 26.9 45.5\n",
      " 31.5 33.  23.4 30.7 20.5 21.5 40.  28.6 42.2 29.6 35.4 16.9 26.8 39.3\n",
      " 32.6 35.9 21.2 42.4 40.5 36.7 29.3 19.6 18.  17.6 17.7 35.  22.  39.4\n",
      " 19.7 22.5 25.2 41.8 23.7 24.5 31.2 16.  31.6 25.1 24.8 18.3 20.  19.5\n",
      " 36.  35.3 40.1 43.1 21.4 34.3 27.6 16.5 24.3 25.7 21.9 38.4 25.9 18.6\n",
      " 24.9 48.2 20.7 39.5 23.3 35.1 43.6 21.  47.3 16.6 21.6 15.5 35.6 16.7\n",
      " 41.9 16.4 17.1 29.2 37.9 44.6 39.6 40.3 41.6 39.  23.2 18.9 36.1 36.3\n",
      " 46.5 16.8 46.6 35.2 20.9 31.8 15.3 38.2 45.2 17.  27.8 23.  22.1 26.\n",
      " 44.3 39.7 34.7 21.3 41.2 34.8 19.2 35.7 40.8 24.7 19.  32.4 34.  28.7\n",
      " 32.1 20.4 30.6 19.3 40.9 17.2 16.1 16.2 40.6 18.4 21.1 42.3 32.2 17.5\n",
      " 42.1 47.8 20.8 30.1 17.3 36.4 36.2 14.4 43.  41.7 33.8 43.9 22.7 18.7\n",
      " 37.  38.5 16.3 44.  32.7 40.2 33.3 17.4 41.3 14.6 17.8 46.1 33.1 18.1\n",
      " 43.8 38.9 43.7 39.9 15.9 19.8 38.3 41.  42.6 43.4 15.1 20.6 33.5 43.2\n",
      " 19.1 30.4 38.  33.4 44.9 44.7 37.6 39.8 42.  37.2 42.8 18.8 42.9 14.3\n",
      " 37.7 48.4 46.2 43.3 33.9 18.5 44.5 45.4 19.9 17.9 15.6 15.2 18.2 48.5\n",
      " 14.1 15.7 44.8 38.1 44.4 38.8 39.1 41.4 14.2 15.4 45.1 48.7 42.7 48.8\n",
      " 15.8 45.3 14.8 40.7 48.  46.8 48.3 14.5 15.  47.4 47.9 45.8 47.6 14.\n",
      " 46.4 46.9 47.1 48.1 46.3 14.9]\n",
      "['formerly smoked' 'never smoked' 'smokes' 'Unknown']\n",
      "[1 0]\n"
     ]
    }
   ],
   "source": [
    "for column in brain_stroke_data.columns:\n",
    "    print(brain_stroke_data[column].unique())"
   ]
  },
  {
   "cell_type": "markdown",
   "metadata": {},
   "source": [
    "There is no null values found in the data:"
   ]
  },
  {
   "cell_type": "code",
   "execution_count": 5,
   "metadata": {
    "scrolled": true
   },
   "outputs": [
    {
     "name": "stdout",
     "output_type": "stream",
     "text": [
      "gender               0\n",
      "age                  0\n",
      "hypertension         0\n",
      "heart_disease        0\n",
      "ever_married         0\n",
      "work_type            0\n",
      "Residence_type       0\n",
      "avg_glucose_level    0\n",
      "bmi                  0\n",
      "smoking_status       0\n",
      "stroke               0\n",
      "dtype: int64\n"
     ]
    }
   ],
   "source": [
    "# find whether columns contain null values\n",
    "print(brain_stroke_data.isnull().sum())"
   ]
  },
  {
   "cell_type": "markdown",
   "metadata": {},
   "source": [
    "In the smoking_status column we have some data that is write Unkown. This data is missing at Random (MAR) because we expect some people don't want to give that information. "
   ]
  },
  {
   "cell_type": "markdown",
   "metadata": {},
   "source": [
    "We do not found duplicated rows: "
   ]
  },
  {
   "cell_type": "code",
   "execution_count": 27,
   "metadata": {},
   "outputs": [
    {
     "name": "stdout",
     "output_type": "stream",
     "text": [
      "Total number of duplicated row: gender               0\n",
      "age                  0\n",
      "hypertension         0\n",
      "heart_disease        0\n",
      "ever_married         0\n",
      "work_type            0\n",
      "Residence_type       0\n",
      "avg_glucose_level    0\n",
      "bmi                  0\n",
      "smoking_status       0\n",
      "stroke               0\n",
      "dtype: int64\n"
     ]
    }
   ],
   "source": [
    "print(\"Total number of duplicated row: {}\".format(brain_stroke_data[brain_stroke_data.duplicated() == True].count()))"
   ]
  },
  {
   "cell_type": "markdown",
   "metadata": {},
   "source": [
    "To investigate further, we calculate summary statistics on `brain_stroke_data` using the `.describe()` method for all our variables."
   ]
  },
  {
   "cell_type": "code",
   "execution_count": 30,
   "metadata": {},
   "outputs": [
    {
     "name": "stdout",
     "output_type": "stream",
     "text": [
      "        gender          age  hypertension  heart_disease ever_married  \\\n",
      "count     4981  4981.000000   4981.000000    4981.000000         4981   \n",
      "unique       2          NaN           NaN            NaN            2   \n",
      "top     Female          NaN           NaN            NaN          Yes   \n",
      "freq      2907          NaN           NaN            NaN         3280   \n",
      "mean       NaN    43.419859      0.096165       0.055210          NaN   \n",
      "std        NaN    22.662755      0.294848       0.228412          NaN   \n",
      "min        NaN     0.080000      0.000000       0.000000          NaN   \n",
      "25%        NaN    25.000000      0.000000       0.000000          NaN   \n",
      "50%        NaN    45.000000      0.000000       0.000000          NaN   \n",
      "75%        NaN    61.000000      0.000000       0.000000          NaN   \n",
      "max        NaN    82.000000      1.000000       1.000000          NaN   \n",
      "\n",
      "       work_type Residence_type  avg_glucose_level          bmi  \\\n",
      "count       4981           4981        4981.000000  4981.000000   \n",
      "unique         4              2                NaN          NaN   \n",
      "top      Private          Urban                NaN          NaN   \n",
      "freq        2860           2532                NaN          NaN   \n",
      "mean         NaN            NaN         105.943562    28.498173   \n",
      "std          NaN            NaN          45.075373     6.790464   \n",
      "min          NaN            NaN          55.120000    14.000000   \n",
      "25%          NaN            NaN          77.230000    23.700000   \n",
      "50%          NaN            NaN          91.850000    28.100000   \n",
      "75%          NaN            NaN         113.860000    32.600000   \n",
      "max          NaN            NaN         271.740000    48.900000   \n",
      "\n",
      "       smoking_status       stroke  \n",
      "count            4981  4981.000000  \n",
      "unique              4          NaN  \n",
      "top      never smoked          NaN  \n",
      "freq             1838          NaN  \n",
      "mean              NaN     0.049789  \n",
      "std               NaN     0.217531  \n",
      "min               NaN     0.000000  \n",
      "25%               NaN     0.000000  \n",
      "50%               NaN     0.000000  \n",
      "75%               NaN     0.000000  \n",
      "max               NaN     1.000000  \n"
     ]
    }
   ],
   "source": [
    "# perform summary statistics\n",
    "print(brain_stroke_data.describe(include = 'all'))"
   ]
  },
  {
   "cell_type": "code",
   "execution_count": 9,
   "metadata": {},
   "outputs": [
    {
     "name": "stdout",
     "output_type": "stream",
     "text": [
      "<class 'pandas.core.frame.DataFrame'>\n",
      "RangeIndex: 4981 entries, 0 to 4980\n",
      "Data columns (total 11 columns):\n",
      "gender               4981 non-null object\n",
      "age                  4981 non-null float64\n",
      "hypertension         4981 non-null int64\n",
      "heart_disease        4981 non-null int64\n",
      "ever_married         4981 non-null object\n",
      "work_type            4981 non-null object\n",
      "Residence_type       4981 non-null object\n",
      "avg_glucose_level    4981 non-null float64\n",
      "bmi                  4981 non-null float64\n",
      "smoking_status       4981 non-null object\n",
      "stroke               4981 non-null int64\n",
      "dtypes: float64(3), int64(3), object(5)\n",
      "memory usage: 428.1+ KB\n"
     ]
    }
   ],
   "source": [
    "# data types using .info() method\n",
    "brain_stroke_data.info()"
   ]
  },
  {
   "cell_type": "markdown",
   "metadata": {},
   "source": [
    "We are going to change de name of 'Residence_type' column to 'residence_type'."
   ]
  },
  {
   "cell_type": "code",
   "execution_count": 5,
   "metadata": {},
   "outputs": [
    {
     "data": {
      "text/html": [
       "<div>\n",
       "<style scoped>\n",
       "    .dataframe tbody tr th:only-of-type {\n",
       "        vertical-align: middle;\n",
       "    }\n",
       "\n",
       "    .dataframe tbody tr th {\n",
       "        vertical-align: top;\n",
       "    }\n",
       "\n",
       "    .dataframe thead th {\n",
       "        text-align: right;\n",
       "    }\n",
       "</style>\n",
       "<table border=\"1\" class=\"dataframe\">\n",
       "  <thead>\n",
       "    <tr style=\"text-align: right;\">\n",
       "      <th></th>\n",
       "      <th>gender</th>\n",
       "      <th>age</th>\n",
       "      <th>hypertension</th>\n",
       "      <th>heart_disease</th>\n",
       "      <th>ever_married</th>\n",
       "      <th>work_type</th>\n",
       "      <th>residence_type</th>\n",
       "      <th>avg_glucose_level</th>\n",
       "      <th>bmi</th>\n",
       "      <th>smoking_status</th>\n",
       "      <th>stroke</th>\n",
       "    </tr>\n",
       "  </thead>\n",
       "  <tbody>\n",
       "    <tr>\n",
       "      <th>0</th>\n",
       "      <td>Male</td>\n",
       "      <td>67.0</td>\n",
       "      <td>0</td>\n",
       "      <td>1</td>\n",
       "      <td>Yes</td>\n",
       "      <td>Private</td>\n",
       "      <td>Urban</td>\n",
       "      <td>228.69</td>\n",
       "      <td>36.6</td>\n",
       "      <td>formerly smoked</td>\n",
       "      <td>1</td>\n",
       "    </tr>\n",
       "    <tr>\n",
       "      <th>1</th>\n",
       "      <td>Male</td>\n",
       "      <td>80.0</td>\n",
       "      <td>0</td>\n",
       "      <td>1</td>\n",
       "      <td>Yes</td>\n",
       "      <td>Private</td>\n",
       "      <td>Rural</td>\n",
       "      <td>105.92</td>\n",
       "      <td>32.5</td>\n",
       "      <td>never smoked</td>\n",
       "      <td>1</td>\n",
       "    </tr>\n",
       "    <tr>\n",
       "      <th>2</th>\n",
       "      <td>Female</td>\n",
       "      <td>49.0</td>\n",
       "      <td>0</td>\n",
       "      <td>0</td>\n",
       "      <td>Yes</td>\n",
       "      <td>Private</td>\n",
       "      <td>Urban</td>\n",
       "      <td>171.23</td>\n",
       "      <td>34.4</td>\n",
       "      <td>smokes</td>\n",
       "      <td>1</td>\n",
       "    </tr>\n",
       "    <tr>\n",
       "      <th>3</th>\n",
       "      <td>Female</td>\n",
       "      <td>79.0</td>\n",
       "      <td>1</td>\n",
       "      <td>0</td>\n",
       "      <td>Yes</td>\n",
       "      <td>Self-employed</td>\n",
       "      <td>Rural</td>\n",
       "      <td>174.12</td>\n",
       "      <td>24.0</td>\n",
       "      <td>never smoked</td>\n",
       "      <td>1</td>\n",
       "    </tr>\n",
       "    <tr>\n",
       "      <th>4</th>\n",
       "      <td>Male</td>\n",
       "      <td>81.0</td>\n",
       "      <td>0</td>\n",
       "      <td>0</td>\n",
       "      <td>Yes</td>\n",
       "      <td>Private</td>\n",
       "      <td>Urban</td>\n",
       "      <td>186.21</td>\n",
       "      <td>29.0</td>\n",
       "      <td>formerly smoked</td>\n",
       "      <td>1</td>\n",
       "    </tr>\n",
       "  </tbody>\n",
       "</table>\n",
       "</div>"
      ],
      "text/plain": [
       "   gender   age  hypertension  heart_disease ever_married      work_type  \\\n",
       "0    Male  67.0             0              1          Yes        Private   \n",
       "1    Male  80.0             0              1          Yes        Private   \n",
       "2  Female  49.0             0              0          Yes        Private   \n",
       "3  Female  79.0             1              0          Yes  Self-employed   \n",
       "4    Male  81.0             0              0          Yes        Private   \n",
       "\n",
       "  residence_type  avg_glucose_level   bmi   smoking_status  stroke  \n",
       "0          Urban             228.69  36.6  formerly smoked       1  \n",
       "1          Rural             105.92  32.5     never smoked       1  \n",
       "2          Urban             171.23  34.4           smokes       1  \n",
       "3          Rural             174.12  24.0     never smoked       1  \n",
       "4          Urban             186.21  29.0  formerly smoked       1  "
      ]
     },
     "execution_count": 5,
     "metadata": {},
     "output_type": "execute_result"
    }
   ],
   "source": [
    "brain_stroke_data = brain_stroke_data.rename({\"Residence_type\":\"residence_type\"}, axis = \"columns\")\n",
    "brain_stroke_data.head()"
   ]
  },
  {
   "cell_type": "markdown",
   "metadata": {},
   "source": [
    "To summarize the distribution of categorical data, we calculate\n",
    "the number in each category using pandas method .value_counts for each column.\n"
   ]
  },
  {
   "cell_type": "code",
   "execution_count": 37,
   "metadata": {},
   "outputs": [
    {
     "name": "stdout",
     "output_type": "stream",
     "text": [
      "Female    2907\n",
      "Male      2074\n",
      "Name: gender, dtype: int64\n",
      "78.00    102\n",
      "57.00     92\n",
      "54.00     85\n",
      "79.00     84\n",
      "51.00     84\n",
      "52.00     83\n",
      "55.00     82\n",
      "53.00     82\n",
      "45.00     82\n",
      "50.00     80\n",
      "59.00     78\n",
      "49.00     76\n",
      "31.00     75\n",
      "56.00     75\n",
      "61.00     75\n",
      "44.00     74\n",
      "47.00     74\n",
      "63.00     73\n",
      "37.00     73\n",
      "62.00     73\n",
      "60.00     72\n",
      "40.00     72\n",
      "41.00     71\n",
      "38.00     70\n",
      "39.00     70\n",
      "32.00     70\n",
      "80.00     70\n",
      "34.00     67\n",
      "43.00     67\n",
      "58.00     66\n",
      "        ... \n",
      "74.00     39\n",
      "9.00      38\n",
      "11.00     36\n",
      "10.00     34\n",
      "7.00      32\n",
      "4.00      32\n",
      "6.00      24\n",
      "1.80       9\n",
      "1.64       8\n",
      "1.32       8\n",
      "1.88       7\n",
      "1.24       7\n",
      "1.08       7\n",
      "1.72       6\n",
      "1.48       6\n",
      "0.56       5\n",
      "0.24       5\n",
      "0.72       5\n",
      "1.00       5\n",
      "0.88       5\n",
      "0.32       5\n",
      "0.80       4\n",
      "1.56       4\n",
      "0.64       4\n",
      "1.40       3\n",
      "0.48       3\n",
      "1.16       3\n",
      "0.08       2\n",
      "0.40       2\n",
      "0.16       1\n",
      "Name: age, Length: 104, dtype: int64\n",
      "0    4502\n",
      "1     479\n",
      "Name: hypertension, dtype: int64\n",
      "0    4706\n",
      "1     275\n",
      "Name: heart_disease, dtype: int64\n",
      "Yes    3280\n",
      "No     1701\n",
      "Name: ever_married, dtype: int64\n",
      "Private          2860\n",
      "Self-employed     804\n",
      "children          673\n",
      "Govt_job          644\n",
      "Name: work_type, dtype: int64\n",
      "Urban    2532\n",
      "Rural    2449\n",
      "Name: Residence_type, dtype: int64\n",
      "93.88     6\n",
      "91.85     5\n",
      "83.16     5\n",
      "91.68     5\n",
      "73.00     5\n",
      "84.10     5\n",
      "72.49     5\n",
      "84.86     4\n",
      "77.67     4\n",
      "67.92     4\n",
      "60.98     4\n",
      "81.51     4\n",
      "71.06     4\n",
      "80.08     4\n",
      "90.42     4\n",
      "93.74     4\n",
      "85.81     4\n",
      "80.72     4\n",
      "93.55     4\n",
      "100.54    4\n",
      "89.68     4\n",
      "92.82     4\n",
      "56.11     4\n",
      "114.32    4\n",
      "88.83     4\n",
      "77.55     4\n",
      "87.72     4\n",
      "78.24     4\n",
      "109.51    4\n",
      "85.84     4\n",
      "         ..\n",
      "121.27    1\n",
      "90.61     1\n",
      "207.64    1\n",
      "86.68     1\n",
      "96.24     1\n",
      "77.50     1\n",
      "181.30    1\n",
      "130.00    1\n",
      "117.75    1\n",
      "123.83    1\n",
      "106.18    1\n",
      "93.00     1\n",
      "195.25    1\n",
      "79.02     1\n",
      "145.18    1\n",
      "89.17     1\n",
      "89.38     1\n",
      "122.41    1\n",
      "250.80    1\n",
      "239.64    1\n",
      "148.24    1\n",
      "206.62    1\n",
      "85.28     1\n",
      "82.61     1\n",
      "70.18     1\n",
      "109.30    1\n",
      "114.89    1\n",
      "89.31     1\n",
      "220.36    1\n",
      "88.62     1\n",
      "Name: avg_glucose_level, Length: 3895, dtype: int64\n",
      "28.7    42\n",
      "28.4    41\n",
      "27.3    38\n",
      "27.6    37\n",
      "26.7    37\n",
      "27.7    37\n",
      "30.0    37\n",
      "26.1    37\n",
      "26.4    36\n",
      "27.0    36\n",
      "23.4    35\n",
      "25.1    34\n",
      "26.9    34\n",
      "31.4    34\n",
      "29.1    34\n",
      "28.0    34\n",
      "28.9    34\n",
      "28.3    33\n",
      "26.5    33\n",
      "25.5    33\n",
      "29.9    33\n",
      "29.7    32\n",
      "29.4    32\n",
      "28.1    32\n",
      "29.2    31\n",
      "24.8    31\n",
      "23.5    31\n",
      "30.3    31\n",
      "30.1    31\n",
      "26.6    30\n",
      "        ..\n",
      "15.0     2\n",
      "14.5     2\n",
      "14.4     2\n",
      "47.8     2\n",
      "47.3     2\n",
      "48.5     2\n",
      "45.1     2\n",
      "46.1     2\n",
      "45.7     2\n",
      "45.9     2\n",
      "47.1     1\n",
      "45.8     1\n",
      "44.1     1\n",
      "44.9     1\n",
      "46.6     1\n",
      "47.9     1\n",
      "40.6     1\n",
      "46.3     1\n",
      "40.7     1\n",
      "47.4     1\n",
      "46.4     1\n",
      "46.8     1\n",
      "48.1     1\n",
      "44.4     1\n",
      "48.0     1\n",
      "48.4     1\n",
      "14.0     1\n",
      "14.9     1\n",
      "48.2     1\n",
      "48.7     1\n",
      "Name: bmi, Length: 342, dtype: int64\n",
      "never smoked       1838\n",
      "Unknown            1500\n",
      "formerly smoked     867\n",
      "smokes              776\n",
      "Name: smoking_status, dtype: int64\n",
      "0    4733\n",
      "1     248\n",
      "Name: stroke, dtype: int64\n"
     ]
    }
   ],
   "source": [
    "for column in brain_stroke_data.columns:\n",
    "    print(\"{}\".format(brain_stroke_data[column].value_counts()))"
   ]
  },
  {
   "cell_type": "markdown",
   "metadata": {},
   "source": [
    "We can calculate the percentage in each category. We found that in this dataset 4.98 % of the patients had a stroke and 95.0 % doen't had a stroke. 9.6 % have hypertension and 90.4 % don't have hypertension.\n",
    "5.5 % have heart disease and 94.5 % don't. 65.9 % have been married and 34.1 haven't been married. 57.4 % work in the private sector, 16.1 % is self-employed, 13.5 % are children and 12.9 % work for the government.\n",
    "50.8 % lives in the urban and 49.2 % in rural.\n",
    "Also, 58.4 % of patients are Female and 41.6 % are Male. \n",
    "\n"
   ]
  },
  {
   "cell_type": "code",
   "execution_count": 63,
   "metadata": {},
   "outputs": [
    {
     "name": "stdout",
     "output_type": "stream",
     "text": [
      "Female    58.361775\n",
      "Male      41.638225\n",
      "Name: gender, dtype: float64\n",
      "78.00    2.047782\n",
      "57.00    1.847019\n",
      "54.00    1.706485\n",
      "79.00    1.686408\n",
      "51.00    1.686408\n",
      "52.00    1.666332\n",
      "55.00    1.646256\n",
      "53.00    1.646256\n",
      "45.00    1.646256\n",
      "50.00    1.606103\n",
      "59.00    1.565951\n",
      "49.00    1.525798\n",
      "31.00    1.505722\n",
      "56.00    1.505722\n",
      "61.00    1.505722\n",
      "44.00    1.485645\n",
      "47.00    1.485645\n",
      "63.00    1.465569\n",
      "37.00    1.465569\n",
      "62.00    1.465569\n",
      "60.00    1.445493\n",
      "40.00    1.445493\n",
      "41.00    1.425417\n",
      "38.00    1.405340\n",
      "39.00    1.405340\n",
      "32.00    1.405340\n",
      "80.00    1.405340\n",
      "34.00    1.345111\n",
      "43.00    1.345111\n",
      "58.00    1.325035\n",
      "           ...   \n",
      "74.00    0.782975\n",
      "9.00     0.762899\n",
      "11.00    0.722746\n",
      "10.00    0.682594\n",
      "7.00     0.642441\n",
      "4.00     0.642441\n",
      "6.00     0.481831\n",
      "1.80     0.180687\n",
      "1.64     0.160610\n",
      "1.32     0.160610\n",
      "1.88     0.140534\n",
      "1.24     0.140534\n",
      "1.08     0.140534\n",
      "1.72     0.120458\n",
      "1.48     0.120458\n",
      "0.56     0.100381\n",
      "0.24     0.100381\n",
      "0.72     0.100381\n",
      "1.00     0.100381\n",
      "0.88     0.100381\n",
      "0.32     0.100381\n",
      "0.80     0.080305\n",
      "1.56     0.080305\n",
      "0.64     0.080305\n",
      "1.40     0.060229\n",
      "0.48     0.060229\n",
      "1.16     0.060229\n",
      "0.08     0.040153\n",
      "0.40     0.040153\n",
      "0.16     0.020076\n",
      "Name: age, Length: 104, dtype: float64\n",
      "0    90.383457\n",
      "1     9.616543\n",
      "Name: hypertension, dtype: float64\n",
      "0    94.47902\n",
      "1     5.52098\n",
      "Name: heart_disease, dtype: float64\n",
      "Yes    65.850231\n",
      "No     34.149769\n",
      "Name: ever_married, dtype: float64\n",
      "Private          57.418189\n",
      "Self-employed    16.141337\n",
      "children         13.511343\n",
      "Govt_job         12.929131\n",
      "Name: work_type, dtype: float64\n",
      "Urban    50.833166\n",
      "Rural    49.166834\n",
      "Name: Residence_type, dtype: float64\n",
      "93.88     0.120458\n",
      "91.85     0.100381\n",
      "83.16     0.100381\n",
      "91.68     0.100381\n",
      "73.00     0.100381\n",
      "84.10     0.100381\n",
      "72.49     0.100381\n",
      "84.86     0.080305\n",
      "77.67     0.080305\n",
      "67.92     0.080305\n",
      "60.98     0.080305\n",
      "81.51     0.080305\n",
      "71.06     0.080305\n",
      "80.08     0.080305\n",
      "90.42     0.080305\n",
      "93.74     0.080305\n",
      "85.81     0.080305\n",
      "80.72     0.080305\n",
      "93.55     0.080305\n",
      "100.54    0.080305\n",
      "89.68     0.080305\n",
      "92.82     0.080305\n",
      "56.11     0.080305\n",
      "114.32    0.080305\n",
      "88.83     0.080305\n",
      "77.55     0.080305\n",
      "87.72     0.080305\n",
      "78.24     0.080305\n",
      "109.51    0.080305\n",
      "85.84     0.080305\n",
      "            ...   \n",
      "121.27    0.020076\n",
      "90.61     0.020076\n",
      "207.64    0.020076\n",
      "86.68     0.020076\n",
      "96.24     0.020076\n",
      "77.50     0.020076\n",
      "181.30    0.020076\n",
      "130.00    0.020076\n",
      "117.75    0.020076\n",
      "123.83    0.020076\n",
      "106.18    0.020076\n",
      "93.00     0.020076\n",
      "195.25    0.020076\n",
      "79.02     0.020076\n",
      "145.18    0.020076\n",
      "89.17     0.020076\n",
      "89.38     0.020076\n",
      "122.41    0.020076\n",
      "250.80    0.020076\n",
      "239.64    0.020076\n",
      "148.24    0.020076\n",
      "206.62    0.020076\n",
      "85.28     0.020076\n",
      "82.61     0.020076\n",
      "70.18     0.020076\n",
      "109.30    0.020076\n",
      "114.89    0.020076\n",
      "89.31     0.020076\n",
      "220.36    0.020076\n",
      "88.62     0.020076\n",
      "Name: avg_glucose_level, Length: 3895, dtype: float64\n",
      "28.7    0.843204\n",
      "28.4    0.823128\n",
      "27.3    0.762899\n",
      "27.6    0.742823\n",
      "26.7    0.742823\n",
      "27.7    0.742823\n",
      "30.0    0.742823\n",
      "26.1    0.742823\n",
      "26.4    0.722746\n",
      "27.0    0.722746\n",
      "23.4    0.702670\n",
      "25.1    0.682594\n",
      "26.9    0.682594\n",
      "31.4    0.682594\n",
      "29.1    0.682594\n",
      "28.0    0.682594\n",
      "28.9    0.682594\n",
      "28.3    0.662518\n",
      "26.5    0.662518\n",
      "25.5    0.662518\n",
      "29.9    0.662518\n",
      "29.7    0.642441\n",
      "29.4    0.642441\n",
      "28.1    0.642441\n",
      "29.2    0.622365\n",
      "24.8    0.622365\n",
      "23.5    0.622365\n",
      "30.3    0.622365\n",
      "30.1    0.622365\n",
      "26.6    0.602289\n",
      "          ...   \n",
      "15.0    0.040153\n",
      "14.5    0.040153\n",
      "14.4    0.040153\n",
      "47.8    0.040153\n",
      "47.3    0.040153\n",
      "48.5    0.040153\n",
      "45.1    0.040153\n",
      "46.1    0.040153\n",
      "45.7    0.040153\n",
      "45.9    0.040153\n",
      "47.1    0.020076\n",
      "45.8    0.020076\n",
      "44.1    0.020076\n",
      "44.9    0.020076\n",
      "46.6    0.020076\n",
      "47.9    0.020076\n",
      "40.6    0.020076\n",
      "46.3    0.020076\n",
      "40.7    0.020076\n",
      "47.4    0.020076\n",
      "46.4    0.020076\n",
      "46.8    0.020076\n",
      "48.1    0.020076\n",
      "44.4    0.020076\n",
      "48.0    0.020076\n",
      "48.4    0.020076\n",
      "14.0    0.020076\n",
      "14.9    0.020076\n",
      "48.2    0.020076\n",
      "48.7    0.020076\n",
      "Name: bmi, Length: 342, dtype: float64\n",
      "never smoked       36.900221\n",
      "Unknown            30.114435\n",
      "formerly smoked    17.406143\n",
      "smokes             15.579201\n",
      "Name: smoking_status, dtype: float64\n",
      "0    95.02108\n",
      "1     4.97892\n",
      "Name: stroke, dtype: float64\n"
     ]
    }
   ],
   "source": [
    "for column in brain_stroke_data.columns:\n",
    "    print(\"{}\".format(brain_stroke_data[column].value_counts(normalize = True)*100))"
   ]
  },
  {
   "cell_type": "markdown",
   "metadata": {},
   "source": [
    "The percentage of the patients that had stroke and also present hypertension is 26.6 % "
   ]
  },
  {
   "cell_type": "code",
   "execution_count": 70,
   "metadata": {},
   "outputs": [
    {
     "data": {
      "text/plain": [
       "stroke  hypertension\n",
       "0       0               91.274033\n",
       "        1                8.725967\n",
       "1       0               73.387097\n",
       "        1               26.612903\n",
       "Name: hypertension, dtype: float64"
      ]
     },
     "execution_count": 70,
     "metadata": {},
     "output_type": "execute_result"
    }
   ],
   "source": [
    "brain_stroke_data.groupby('stroke')['hypertension'].value_counts(normalize = True)*100\n"
   ]
  },
  {
   "cell_type": "markdown",
   "metadata": {},
   "source": [
    "The percentage of the patients that had stroke and also present heart disease is 18.9 %"
   ]
  },
  {
   "cell_type": "code",
   "execution_count": 71,
   "metadata": {
    "scrolled": true
   },
   "outputs": [
    {
     "data": {
      "text/plain": [
       "stroke  heart_disease\n",
       "0       0                95.182759\n",
       "        1                 4.817241\n",
       "1       0                81.048387\n",
       "        1                18.951613\n",
       "Name: heart_disease, dtype: float64"
      ]
     },
     "execution_count": 71,
     "metadata": {},
     "output_type": "execute_result"
    }
   ],
   "source": [
    "brain_stroke_data.groupby('stroke')['heart_disease'].value_counts(normalize = True)*100"
   ]
  },
  {
   "cell_type": "markdown",
   "metadata": {},
   "source": [
    "The percentage of the patients that had stroke and also were ever married is  88.3%"
   ]
  },
  {
   "cell_type": "code",
   "execution_count": 72,
   "metadata": {
    "scrolled": true
   },
   "outputs": [
    {
     "data": {
      "text/plain": [
       "stroke  ever_married\n",
       "0       Yes             64.673569\n",
       "        No              35.326431\n",
       "1       Yes             88.306452\n",
       "        No              11.693548\n",
       "Name: ever_married, dtype: float64"
      ]
     },
     "execution_count": 72,
     "metadata": {},
     "output_type": "execute_result"
    }
   ],
   "source": [
    "brain_stroke_data.groupby('stroke')['ever_married'].value_counts(normalize = True)*100"
   ]
  },
  {
   "cell_type": "markdown",
   "metadata": {},
   "source": [
    "The percentage of the patients that had stroke and work in private sector is 59.7 %, self-employed 26.2 %, work for the goverment 13.31 %, are children 0.8 %."
   ]
  },
  {
   "cell_type": "code",
   "execution_count": 73,
   "metadata": {},
   "outputs": [
    {
     "data": {
      "text/plain": [
       "stroke  work_type    \n",
       "0       Private          57.299810\n",
       "        Self-employed    15.613776\n",
       "        children         14.177055\n",
       "        Govt_job         12.909360\n",
       "1       Private          59.677419\n",
       "        Self-employed    26.209677\n",
       "        Govt_job         13.306452\n",
       "        children          0.806452\n",
       "Name: work_type, dtype: float64"
      ]
     },
     "execution_count": 73,
     "metadata": {},
     "output_type": "execute_result"
    }
   ],
   "source": [
    "brain_stroke_data.groupby('stroke')['work_type'].value_counts(normalize = True)*100"
   ]
  },
  {
   "cell_type": "markdown",
   "metadata": {},
   "source": [
    "The percentage of the patients that had stroke and their smoking status is: never smoked 35.9 %, formerly smoked 28.2 %, unkown 18.9 %, smokes 16.9 %."
   ]
  },
  {
   "cell_type": "code",
   "execution_count": 74,
   "metadata": {},
   "outputs": [
    {
     "data": {
      "text/plain": [
       "stroke  smoking_status \n",
       "0       never smoked       36.953307\n",
       "        Unknown            30.699345\n",
       "        formerly smoked    16.839214\n",
       "        smokes             15.508134\n",
       "1       never smoked       35.887097\n",
       "        formerly smoked    28.225806\n",
       "        Unknown            18.951613\n",
       "        smokes             16.935484\n",
       "Name: smoking_status, dtype: float64"
      ]
     },
     "execution_count": 74,
     "metadata": {},
     "output_type": "execute_result"
    }
   ],
   "source": [
    "brain_stroke_data.groupby('stroke')['smoking_status'].value_counts(normalize = True)*100"
   ]
  },
  {
   "cell_type": "markdown",
   "metadata": {},
   "source": [
    "The percentage of the patients that had stroke and lives in an urban area is 54.4% and lives in a rural area are 45.6 %."
   ]
  },
  {
   "cell_type": "code",
   "execution_count": 76,
   "metadata": {
    "scrolled": true
   },
   "outputs": [
    {
     "data": {
      "text/plain": [
       "stroke  Residence_type\n",
       "0       Urban             50.644412\n",
       "        Rural             49.355588\n",
       "1       Urban             54.435484\n",
       "        Rural             45.564516\n",
       "Name: Residence_type, dtype: float64"
      ]
     },
     "execution_count": 76,
     "metadata": {},
     "output_type": "execute_result"
    }
   ],
   "source": [
    "brain_stroke_data.groupby('stroke')['Residence_type'].value_counts(normalize = True)*100"
   ]
  },
  {
   "cell_type": "markdown",
   "metadata": {},
   "source": [
    "The percentage of the patients that had stroke and are Female are 56.5 % and Male are 43.5 %"
   ]
  },
  {
   "cell_type": "code",
   "execution_count": 77,
   "metadata": {},
   "outputs": [
    {
     "data": {
      "text/plain": [
       "stroke  gender\n",
       "0       Female    58.461864\n",
       "        Male      41.538136\n",
       "1       Female    56.451613\n",
       "        Male      43.548387\n",
       "Name: gender, dtype: float64"
      ]
     },
     "execution_count": 77,
     "metadata": {},
     "output_type": "execute_result"
    }
   ],
   "source": [
    "brain_stroke_data.groupby('stroke')['gender'].value_counts(normalize = True)*100"
   ]
  },
  {
   "cell_type": "markdown",
   "metadata": {},
   "source": [
    "The mean age of patients that had a stroke is 67.8."
   ]
  },
  {
   "cell_type": "code",
   "execution_count": 78,
   "metadata": {},
   "outputs": [
    {
     "data": {
      "text/plain": [
       "stroke\n",
       "0    42.141348\n",
       "1    67.819839\n",
       "Name: age, dtype: float64"
      ]
     },
     "execution_count": 78,
     "metadata": {},
     "output_type": "execute_result"
    }
   ],
   "source": [
    "brain_stroke_data.groupby('stroke')['age'].mean()"
   ]
  },
  {
   "cell_type": "markdown",
   "metadata": {},
   "source": [
    "The mean average glucose level in patients had a stroke is 132.2 and in patients that did not have a stroke is 104.6."
   ]
  },
  {
   "cell_type": "code",
   "execution_count": 79,
   "metadata": {},
   "outputs": [
    {
     "data": {
      "text/plain": [
       "stroke\n",
       "0    104.569056\n",
       "1    132.175565\n",
       "Name: avg_glucose_level, dtype: float64"
      ]
     },
     "execution_count": 79,
     "metadata": {},
     "output_type": "execute_result"
    }
   ],
   "source": [
    "brain_stroke_data.groupby('stroke')['avg_glucose_level'].mean()"
   ]
  },
  {
   "cell_type": "markdown",
   "metadata": {},
   "source": [
    "The mean bmi of patiens that had a stroke is 30.1 and in patients that did not have a stroke is 28.4"
   ]
  },
  {
   "cell_type": "code",
   "execution_count": 80,
   "metadata": {},
   "outputs": [
    {
     "data": {
      "text/plain": [
       "stroke\n",
       "0    28.409698\n",
       "1    30.186694\n",
       "Name: bmi, dtype: float64"
      ]
     },
     "execution_count": 80,
     "metadata": {},
     "output_type": "execute_result"
    }
   ],
   "source": [
    "brain_stroke_data.groupby('stroke')['bmi'].mean()"
   ]
  },
  {
   "cell_type": "markdown",
   "metadata": {},
   "source": [
    "We can observe in the boxplot below that the mayority of people that had a stroke have between 60 and 80 years old."
   ]
  },
  {
   "cell_type": "code",
   "execution_count": 90,
   "metadata": {
    "scrolled": true
   },
   "outputs": [
    {
     "data": {
      "image/png": "[encoded data removed]",
      "text/plain": [
       "<Figure size 432x288 with 1 Axes>"
      ]
     },
     "metadata": {
      "needs_background": "light"
     },
     "output_type": "display_data"
    }
   ],
   "source": [
    "sns.boxplot(x='stroke', y='age', data = brain_stroke_data)\n",
    "plt.show()"
   ]
  },
  {
   "cell_type": "markdown",
   "metadata": {},
   "source": [
    "We can test for an association between a binary categorical variable (stroke) and a quantitative variable (age) using a two sample t-test:"
   ]
  },
  {
   "cell_type": "code",
   "execution_count": 235,
   "metadata": {},
   "outputs": [
    {
     "name": "stdout",
     "output_type": "stream",
     "text": [
      "`age` mean Difference:  -25.67849072742512\n",
      "`age` median Difference:  -28.0\n"
     ]
    }
   ],
   "source": [
    "age_yes_stroke = brain_stroke_data.age[brain_stroke_data.stroke == 1]\n",
    "age_no_stroke = brain_stroke_data.age[brain_stroke_data.stroke == 0]\n",
    "mean_diff = np.mean(age_no_stroke) - np.mean(age_yes_stroke)\n",
    "print('`age` mean Difference: ', mean_diff)\n",
    "\n",
    "median_diff = np.median(age_no_stroke) - np.median(age_yes_stroke)\n",
    "print('`age` median Difference: ', median_diff)\n"
   ]
  },
  {
   "cell_type": "markdown",
   "metadata": {},
   "source": [
    "We can test for an association between a binary categorical variable (stroke) and a quantitative variable (age) using a two sample t-test. Testing the following null and alternative hypotheses:\n",
    "- Null: The average age for a person with stroke is equal to the average age for a person without stroke.\n",
    "- Alternative: The average age for a person with stroke is NOT equal to the average age for a person with no stroke."
   ]
  },
  {
   "cell_type": "code",
   "execution_count": 255,
   "metadata": {
    "scrolled": true
   },
   "outputs": [
    {
     "name": "stdout",
     "output_type": "stream",
     "text": [
      "p-value for `age` two-sample t-test:  7.897561420136052e-70\n"
     ]
    }
   ],
   "source": [
    "#run two-sample t-test\n",
    "from scipy.stats import ttest_ind\n",
    "\n",
    "tstat, pval = ttest_ind(age_yes_stroke, age_no_stroke)\n",
    "print('p-value for `age` two-sample t-test: ', pval)"
   ]
  },
  {
   "cell_type": "markdown",
   "metadata": {},
   "source": [
    "Using a significance threshold of 0.05. We can observe that our p-value is less than 0.05, so we \"reject the null hypothesis\" and conclude that there is a significant difference age for people with stroke compared to people with no presence of stroke."
   ]
  },
  {
   "cell_type": "markdown",
   "metadata": {},
   "source": [
    "We can observe in the boxplot below that people that had a stroke in general present an average glucose level higher than people with no presence of stroke."
   ]
  },
  {
   "cell_type": "code",
   "execution_count": 91,
   "metadata": {},
   "outputs": [
    {
     "data": {
      "image/png": "[encoded data removed]",
      "text/plain": [
       "<Figure size 432x288 with 1 Axes>"
      ]
     },
     "metadata": {
      "needs_background": "light"
     },
     "output_type": "display_data"
    }
   ],
   "source": [
    "sns.boxplot(x='stroke', y='avg_glucose_level', data = brain_stroke_data)\n",
    "plt.show()"
   ]
  },
  {
   "cell_type": "code",
   "execution_count": 228,
   "metadata": {},
   "outputs": [
    {
     "name": "stdout",
     "output_type": "stream",
     "text": [
      "`avg glucose level` mean Difference:  -27.606508948835838\n",
      "`avg glucose level` mean Difference` median Difference:  -13.58999999999999\n"
     ]
    }
   ],
   "source": [
    "avg_glucose_level_yes_stroke = brain_stroke_data.avg_glucose_level[brain_stroke_data.stroke == 1]\n",
    "avg_glucose_level_no_stroke = brain_stroke_data.avg_glucose_level[brain_stroke_data.stroke == 0]\n",
    "mean_diff = np.mean(avg_glucose_level_no_stroke) - np.mean(avg_glucose_level_yes_stroke)\n",
    "print('`avg glucose level` mean Difference: ', mean_diff)\n",
    "\n",
    "median_diff = np.median(avg_glucose_level_no_stroke) - np.median(avg_glucose_level_yes_stroke)\n",
    "print('`avg glucose level` mean Difference` median Difference: ', median_diff)"
   ]
  },
  {
   "cell_type": "markdown",
   "metadata": {},
   "source": [
    "We can test for an association between a binary categorical variable (stroke) and a quantitative variable (avg glucose level) using a two sample t-test. Testing the following null and alternative hypotheses:\n",
    "- Null: The average of the avg glucose level for a person with stroke is equal to the average of the avg glucose level for a person without stroke.\n",
    "- Alternative: The average of the avg glucose level for a person with stroke is NOT equal to the average of the avg glucose level for a person with no stroke.\n"
   ]
  },
  {
   "cell_type": "code",
   "execution_count": 229,
   "metadata": {
    "scrolled": true
   },
   "outputs": [
    {
     "name": "stdout",
     "output_type": "stream",
     "text": [
      "p-value for `avg glucose level` two-sample t-test:  3.642050793079538e-21\n"
     ]
    }
   ],
   "source": [
    "#run two-sample t-test\n",
    "from scipy.stats import ttest_ind\n",
    "\n",
    "tstat, pval = ttest_ind(avg_glucose_level_yes_stroke, avg_glucose_level_no_stroke)\n",
    "print('p-value for `avg glucose level` two-sample t-test: ', pval)"
   ]
  },
  {
   "cell_type": "markdown",
   "metadata": {},
   "source": [
    "Using a significance threshold of 0.05. We can observe that our p-value is less than 0.05, so we \"reject the null hypothesis\" and conclude that there is a significant difference in avg glucose level for people with stroke compared to people with no presence of stroke."
   ]
  },
  {
   "cell_type": "markdown",
   "metadata": {},
   "source": [
    "We can observe in the boxplot that the minimun level of bmi in people that had a stroke is very close to the average bmi in people without stroke."
   ]
  },
  {
   "cell_type": "code",
   "execution_count": 92,
   "metadata": {
    "scrolled": false
   },
   "outputs": [
    {
     "data": {
      "image/png": "[encoded data removed]",
      "text/plain": [
       "<Figure size 432x288 with 1 Axes>"
      ]
     },
     "metadata": {
      "needs_background": "light"
     },
     "output_type": "display_data"
    }
   ],
   "source": [
    "sns.boxplot(x='stroke', y='bmi', data = brain_stroke_data)\n",
    "plt.show()"
   ]
  },
  {
   "cell_type": "code",
   "execution_count": 233,
   "metadata": {},
   "outputs": [
    {
     "name": "stdout",
     "output_type": "stream",
     "text": [
      "`bmi` mean Difference:  -1.77699568234015\n",
      "`bmi` mean Difference` median Difference:  -1.4499999999999993\n"
     ]
    }
   ],
   "source": [
    "bmi_yes_stroke = brain_stroke_data.bmi[brain_stroke_data.stroke == 1]\n",
    "bmi_no_stroke = brain_stroke_data.bmi[brain_stroke_data.stroke == 0]\n",
    "mean_diff = np.mean(bmi_no_stroke) - np.mean(bmi_yes_stroke)\n",
    "print('`bmi` mean Difference: ', mean_diff)\n",
    "\n",
    "median_diff = np.median(bmi_no_stroke) - np.median(bmi_yes_stroke)\n",
    "print('`bmi` mean Difference` median Difference: ', median_diff)"
   ]
  },
  {
   "cell_type": "markdown",
   "metadata": {},
   "source": [
    "We can test for an association between a binary categorical variable (stroke) and a quantitative variable (bmi) using a two sample t-test. Testing the following null and alternative hypotheses:\n",
    "- Null: The average bmi for a person with stroke is equal to the average bmi for a person without stroke.\n",
    "- Alternative: The average bmi for a person with stroke is NOT equal to the average bmi for a person with no stroke."
   ]
  },
  {
   "cell_type": "code",
   "execution_count": 234,
   "metadata": {},
   "outputs": [
    {
     "name": "stdout",
     "output_type": "stream",
     "text": [
      "p-value for `bmi` two-sample t-test:  5.8235612651257715e-05\n"
     ]
    }
   ],
   "source": [
    "#run two-sample t-test\n",
    "from scipy.stats import ttest_ind\n",
    "\n",
    "tstat, pval = ttest_ind(bmi_yes_stroke, bmi_no_stroke)\n",
    "print('p-value for `bmi` two-sample t-test: ', pval)"
   ]
  },
  {
   "cell_type": "markdown",
   "metadata": {},
   "source": [
    "Using a significance threshold of 0.05. We can observe that our p-value is less than 0.05, so we \"reject the null hypothesis\" and conclude that there is a significant difference in bmi for people with stroke compared to people with no presence of stroke."
   ]
  },
  {
   "cell_type": "markdown",
   "metadata": {},
   "source": [
    "Association between two categorical varibles using a Chi-squared test.\n"
   ]
  },
  {
   "cell_type": "markdown",
   "metadata": {},
   "source": [
    "To investigate asociation between stroke and gender. First we calculate a contingency table of stroke and gender:"
   ]
  },
  {
   "cell_type": "code",
   "execution_count": 237,
   "metadata": {
    "scrolled": true
   },
   "outputs": [
    {
     "name": "stdout",
     "output_type": "stream",
     "text": [
      "Contingency table of stroke and gender:  gender  Female  Male\n",
      "stroke              \n",
      "0         2767  1966\n",
      "1          140   108\n"
     ]
    }
   ],
   "source": [
    "stroke_gender_frequency_table = pd.crosstab(brain_stroke_data.stroke, brain_stroke_data.gender)\n",
    "print(\"Contingency table of stroke and gender: \",stroke_gender_frequency_table)"
   ]
  },
  {
   "cell_type": "markdown",
   "metadata": {},
   "source": [
    "We are running a hypothesis test for the following null and alternative hypotheses:\n",
    "- Null: There is NOT an association between gender and whether or not someone have a stroke.\n",
    "- Alternative: There is an association between gender and whether or not someone have a stroke."
   ]
  },
  {
   "cell_type": "code",
   "execution_count": 238,
   "metadata": {},
   "outputs": [
    {
     "name": "stdout",
     "output_type": "stream",
     "text": [
      "p-value for chi-square test between stroke and gender:  0.5755278931970017\n"
     ]
    }
   ],
   "source": [
    "chi2, pval, dof, exp = chi2_contingency(stroke_gender_frequency_table)\n",
    "print(\"p-value for chi-square test between stroke and gender: \",pval)"
   ]
  },
  {
   "cell_type": "markdown",
   "metadata": {},
   "source": [
    "Using a significance threshold of 0.05. We can observe that our p-value is bigger than 0.05, so we conclude that there is no significant association between stroke and gender variables."
   ]
  },
  {
   "cell_type": "markdown",
   "metadata": {},
   "source": [
    "To investigate asociation between stroke and hypertension. First we calculate a contingency table of stroke and hypertension:"
   ]
  },
  {
   "cell_type": "code",
   "execution_count": 239,
   "metadata": {},
   "outputs": [
    {
     "name": "stdout",
     "output_type": "stream",
     "text": [
      "Contingency table of stroke and hypertension  hypertension     0    1\n",
      "stroke                 \n",
      "0             4320  413\n",
      "1              182   66\n"
     ]
    }
   ],
   "source": [
    "stroke_hypertension_frequency_table = pd.crosstab(brain_stroke_data.stroke, brain_stroke_data.hypertension)\n",
    "print(\"Contingency table of stroke and hypertension \", stroke_hypertension_frequency_table)\n",
    "\n"
   ]
  },
  {
   "cell_type": "markdown",
   "metadata": {},
   "source": [
    "We are running a hypothesis test for the following null and alternative hypotheses:\n",
    "- Null: There is NOT an association between hypertension and whether or not someone have a stroke.\n",
    "- Alternative: There is an association between hypertension and whether or not someone have a stroke."
   ]
  },
  {
   "cell_type": "code",
   "execution_count": 240,
   "metadata": {},
   "outputs": [
    {
     "name": "stdout",
     "output_type": "stream",
     "text": [
      "p-value for chi-square test between stroke and hypertension:  3.476842497504362e-20\n"
     ]
    }
   ],
   "source": [
    "chi2, pval, dof, expected = chi2_contingency(stroke_hypertension_frequency_table)\n",
    "print(\"p-value for chi-square test between stroke and hypertension: \", pval)"
   ]
  },
  {
   "cell_type": "markdown",
   "metadata": {},
   "source": [
    "Using a significance threshold of 0.05. We can observe that our p-value is smaller than 0.05, so we conclude that there is significant association between stroke and hypertension variables."
   ]
  },
  {
   "cell_type": "markdown",
   "metadata": {},
   "source": [
    "To investigate asociation between stroke and ever married. First we calculate a contingency table of stroke and ever married variables:"
   ]
  },
  {
   "cell_type": "code",
   "execution_count": 241,
   "metadata": {},
   "outputs": [
    {
     "name": "stdout",
     "output_type": "stream",
     "text": [
      "Contingency table of stroke and ever married variables : ever_married    No   Yes\n",
      "stroke                  \n",
      "0             1672  3061\n",
      "1               29   219\n"
     ]
    }
   ],
   "source": [
    "stroke_ever_married_frequency_table = pd.crosstab(brain_stroke_data.stroke, brain_stroke_data.ever_married)\n",
    "print(\"Contingency table of stroke and ever married variables :\", stroke_ever_married_frequency_table)\n",
    "\n"
   ]
  },
  {
   "cell_type": "markdown",
   "metadata": {},
   "source": [
    "We are running a hypothesis test for the following null and alternative hypotheses:\n",
    "- Null: There is NOT an association between if a person was ever married and whether or not someone have a stroke.\n",
    "- Alternative: There is an association between if a person was ever and whether or not someone have a stroke."
   ]
  },
  {
   "cell_type": "code",
   "execution_count": 242,
   "metadata": {},
   "outputs": [
    {
     "name": "stdout",
     "output_type": "stream",
     "text": [
      "p-value for chi-square test between stroke and ever married variables : 3.412089781769265e-14\n"
     ]
    }
   ],
   "source": [
    "chi2, pval, dof, expected = chi2_contingency(stroke_ever_married_frequency_table)\n",
    "print(\"p-value for chi-square test between stroke and ever married variables :\",pval)"
   ]
  },
  {
   "cell_type": "markdown",
   "metadata": {},
   "source": [
    "Using a significance threshold of 0.05. We can observe that our p-value is smaller than 0.05, so we conclude that there is significant association between stroke and ever married variables."
   ]
  },
  {
   "cell_type": "markdown",
   "metadata": {},
   "source": [
    "To investigate association between stroke and heart disease. First we calculate a contingency table of stroke and heart disease variables:\n"
   ]
  },
  {
   "cell_type": "code",
   "execution_count": 243,
   "metadata": {},
   "outputs": [
    {
     "name": "stdout",
     "output_type": "stream",
     "text": [
      "Contingency table of stroke and heart disease variables : heart_disease     0    1\n",
      "stroke                  \n",
      "0              4505  228\n",
      "1               201   47\n"
     ]
    }
   ],
   "source": [
    "stroke_heart_disease_frequency_table = pd.crosstab(brain_stroke_data.stroke, brain_stroke_data.heart_disease)\n",
    "print(\"Contingency table of stroke and heart disease variables :\",stroke_heart_disease_frequency_table)\n",
    "\n",
    "\n"
   ]
  },
  {
   "cell_type": "markdown",
   "metadata": {},
   "source": [
    "We are running a hypothesis test for the following null and alternative hypotheses:\n",
    "- Null: There is NOT an association between if a person has heart disease and whether or not someone have a stroke.\n",
    "- Alternative: There is an association between if a person has heart disease and whether or not someone have a stroke."
   ]
  },
  {
   "cell_type": "code",
   "execution_count": 244,
   "metadata": {},
   "outputs": [
    {
     "name": "stdout",
     "output_type": "stream",
     "text": [
      "p-value for chi-square test between stroke and heart disease variables : 8.151357311662218e-21\n"
     ]
    }
   ],
   "source": [
    "chi2, pval, dof, expected = chi2_contingency(stroke_heart_disease_frequency_table)\n",
    "print(\"p-value for chi-square test between stroke and heart disease variables :\",pval)"
   ]
  },
  {
   "cell_type": "markdown",
   "metadata": {},
   "source": [
    "Using a significance threshold of 0.05. We can observe that our p-value is smaller than 0.05, so we conclude that there is significant association between stroke and heart disease variables."
   ]
  },
  {
   "cell_type": "markdown",
   "metadata": {},
   "source": [
    "To investigate association between stroke and work type. First we calculate a contingency table of stroke and work type variables:"
   ]
  },
  {
   "cell_type": "code",
   "execution_count": 247,
   "metadata": {},
   "outputs": [
    {
     "name": "stdout",
     "output_type": "stream",
     "text": [
      "Contingency table of stroke and heart disease variables : work_type  Govt_job  Private  Self-employed  children\n",
      "stroke                                               \n",
      "0               611     2712            739       671\n",
      "1                33      148             65         2\n"
     ]
    }
   ],
   "source": [
    "stroke_work_type_frequency_table = pd.crosstab(brain_stroke_data.stroke, brain_stroke_data.work_type)\n",
    "print(\"Contingency table of stroke and heart disease variables :\",stroke_work_type_frequency_table)\n",
    "\n",
    "\n"
   ]
  },
  {
   "cell_type": "markdown",
   "metadata": {},
   "source": [
    "We are running a hypothesis test for the following null and alternative hypotheses:\n",
    "- Null: There is NOT an association between work type and whether or not someone have a stroke.\n",
    "- Alternative: There is an association between work type and whether or not someone have a stroke."
   ]
  },
  {
   "cell_type": "code",
   "execution_count": 248,
   "metadata": {},
   "outputs": [
    {
     "name": "stdout",
     "output_type": "stream",
     "text": [
      "p-value for chi-square test between stroke and work type variables 2.3124457921591092e-10\n"
     ]
    }
   ],
   "source": [
    "chi2, pval, dof, expected = chi2_contingency(stroke_work_type_frequency_table)\n",
    "print(\"p-value for chi-square test between stroke and work type variables\",pval)"
   ]
  },
  {
   "cell_type": "markdown",
   "metadata": {},
   "source": [
    "Using a significance threshold of 0.05. We can observe that our p-value is smaller than 0.05, so we conclude that there is significant association between stroke and work type variables."
   ]
  },
  {
   "cell_type": "markdown",
   "metadata": {},
   "source": [
    "To investigate association between stroke and residence type. First we calculate a contingency table of stroke and residence type variables:\n"
   ]
  },
  {
   "cell_type": "code",
   "execution_count": 249,
   "metadata": {},
   "outputs": [
    {
     "name": "stdout",
     "output_type": "stream",
     "text": [
      "Contingency table of stroke and residence type variables Residence_type  Rural  Urban\n",
      "stroke                      \n",
      "0                2336   2397\n",
      "1                 113    135\n"
     ]
    }
   ],
   "source": [
    "stroke_residence_type_frequency_table = pd.crosstab(brain_stroke_data.stroke, brain_stroke_data.Residence_type)\n",
    "print(\"Contingency table of stroke and residence type variables\", stroke_residence_type_frequency_table)\n",
    "\n",
    "\n"
   ]
  },
  {
   "cell_type": "markdown",
   "metadata": {},
   "source": [
    "We are running a hypothesis test for the following null and alternative hypotheses:\n",
    "- Null: There is NOT an association between residence type and whether or not someone have a stroke.\n",
    "- Alternative: There is an association between residence type and whether or not someone have a stroke."
   ]
  },
  {
   "cell_type": "code",
   "execution_count": 251,
   "metadata": {},
   "outputs": [
    {
     "name": "stdout",
     "output_type": "stream",
     "text": [
      "p-value for chi-square test between stroke and residence type variables 0.27179299271689855\n"
     ]
    }
   ],
   "source": [
    "chi2, pval, dof, expected = chi2_contingency(stroke_residence_type_frequency_table)\n",
    "print(\"p-value for chi-square test between stroke and residence type variables\",pval)"
   ]
  },
  {
   "cell_type": "markdown",
   "metadata": {},
   "source": [
    "Using a significance threshold of 0.05. We can observe that our p-value is bigger than 0.05, so we conclude that there is no significant association between stroke and residence type variables."
   ]
  },
  {
   "cell_type": "markdown",
   "metadata": {},
   "source": [
    "To investigate association between stroke and smoking_status. First we calculate a contingency table of stroke and smoking_status variables:\n"
   ]
  },
  {
   "cell_type": "code",
   "execution_count": 253,
   "metadata": {
    "scrolled": false
   },
   "outputs": [
    {
     "name": "stdout",
     "output_type": "stream",
     "text": [
      "Contingency table of stroke and smoking status variables smoking_status  Unknown  formerly smoked  never smoked  smokes\n",
      "stroke                                                        \n",
      "0                  1453              797          1749     734\n",
      "1                    47               70            89      42\n"
     ]
    }
   ],
   "source": [
    "smoking_status_type_frequency_table = pd.crosstab(brain_stroke_data.stroke, brain_stroke_data.smoking_status)\n",
    "print(\"Contingency table of stroke and smoking status variables\",smoking_status_type_frequency_table)\n",
    "\n",
    "\n"
   ]
  },
  {
   "cell_type": "markdown",
   "metadata": {},
   "source": [
    "We are running a hypothesis test for the following null and alternative hypotheses:\n",
    "- Null: There is NOT an association between smoking status and whether or not someone have a stroke.\n",
    "- Alternative: There is an association between smoking status and whether or not someone have a stroke."
   ]
  },
  {
   "cell_type": "code",
   "execution_count": 254,
   "metadata": {},
   "outputs": [
    {
     "name": "stdout",
     "output_type": "stream",
     "text": [
      "p-value for chi-square test between stroke and smoking status variables 2.5475678245347575e-06\n"
     ]
    }
   ],
   "source": [
    "chi2, pval, dof, expected = chi2_contingency(smoking_status_type_frequency_table)\n",
    "print(\"p-value for chi-square test between stroke and smoking status variables\",pval)"
   ]
  },
  {
   "cell_type": "markdown",
   "metadata": {},
   "source": [
    "Using a significance threshold of 0.05. We can observe that our p-value is smaller than 0.05, so we conclude that there is significant association between stroke and smoking status variables."
   ]
  },
  {
   "cell_type": "markdown",
   "metadata": {},
   "source": [
    "Conclusions: \n",
    "\n",
    "In this proyect we explore if there is an statistically significative asociation between different variables like hypertension, heart disease, average glucose levels, bmi, gender, age, type of work, residence type, smoking status and stroke.\n",
    "After analizing our data we found that: \n",
    "\n",
    "- The percentage of patients with stroke that also present hypertension is 26.6 %. After calculating the ChiSquare statistic between stroke and hypertension variables we found that there is asociation.\n",
    "- The percentage of patients with stroke that also present heart disease is 18.9 %. We found that there is asociation between stroke and heart disease variables.\n",
    "- The percentage of patients with stroke and also were ever married is 88.3 %. We found that there is asociation between stroke and ever married variables.\n",
    "- The percentage of patients with stroke and work in private sector is 59.7 %, self-employed 26.2 %, work for the goverment 13.31%, are children 0.8%.. We found that there is asociation between stroke and work type variables.\n",
    "- The percentage of patients with stroke and  their smoked status is: never smoked is 35.9 %, formerly smoked 28.2 %, unkown 18.9 %, smokes 16.9 %. We found that there is asociation between stroke and smoke status variables.\n",
    "- The percentage of patients with stroke that also lives in an urban area is 54.4 % and lives in a rural area 45.6%. We found no asociation between stroke and residence type.\n",
    "- The percentage of patients with stroke and are female is 56.5 % and male 43.5%. We found that there is no asociation between stroke and gender variables.\n",
    "- The mean age of patients that had a stroke is 67.8 years. From our graphs we can see that most of the people that had a stroke are betweeen 60 ad 80 years old. We found that there is asociation between stroke and age variables.\n",
    "- The mean average glucose level of patients that had a stroke is 132.2 mg/dL and for patients that did not had a stroke is 104.6 mg/dL. We found that there is significant difference in average glucose level for people with stroke compared to people without stroke.\n",
    "- The mean bmi of patients that had a stroke is 30.1 and in patients that did not have a stroke is 28.4. We found that there is significant difference in bmi for people with stroke compared to people without stroke.\n"
   ]
  }
 ],
 "metadata": {
  "kernelspec": {
   "display_name": "Python 3",
   "language": "python",
   "name": "python3"
  },
  "language_info": {
   "codemirror_mode": {
    "name": "ipython",
    "version": 3
   },
   "file_extension": ".py",
   "mimetype": "text/x-python",
   "name": "python",
   "nbconvert_exporter": "python",
   "pygments_lexer": "ipython3",
   "version": "3.7.3"
  }
 },
 "nbformat": 4,
 "nbformat_minor": 2
}
